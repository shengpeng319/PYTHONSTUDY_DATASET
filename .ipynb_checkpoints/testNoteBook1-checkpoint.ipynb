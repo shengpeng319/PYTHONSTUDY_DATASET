{
 "cells": [
  {
   "cell_type": "markdown",
   "id": "1ce656f1",
   "metadata": {},
   "source": [
    "# Level 1 Title 1\n",
    "\n",
    "## Level 2 title 1\n",
    "*Notes: abc*\n",
    "* bulletpoint1\n",
    "1. point2\n",
    "\n",
    "## Level 2 title 2\n"
   ]
  },
  {
   "cell_type": "code",
   "execution_count": 12,
   "id": "fa710049",
   "metadata": {},
   "outputs": [
    {
     "name": "stdout",
     "output_type": "stream",
     "text": [
      "hello\n"
     ]
    }
   ],
   "source": [
    "print('hello')"
   ]
  },
  {
   "cell_type": "markdown",
   "id": "16dc08dd",
   "metadata": {},
   "source": [
    "##title 2"
   ]
  },
  {
   "cell_type": "code",
   "execution_count": 10,
   "id": "0bbf15f1",
   "metadata": {},
   "outputs": [
    {
     "name": "stdout",
     "output_type": "stream",
     "text": [
      "world\n"
     ]
    }
   ],
   "source": [
    "print('world')"
   ]
  },
  {
   "cell_type": "code",
   "execution_count": 11,
   "id": "768b0470",
   "metadata": {},
   "outputs": [],
   "source": [
    "name='sp'"
   ]
  },
  {
   "cell_type": "code",
   "execution_count": 9,
   "id": "038c0fa3",
   "metadata": {},
   "outputs": [
    {
     "data": {
      "text/plain": [
       "'sp'"
      ]
     },
     "execution_count": 9,
     "metadata": {},
     "output_type": "execute_result"
    }
   ],
   "source": [
    "name"
   ]
  },
  {
   "cell_type": "code",
   "execution_count": 14,
   "id": "9aafbb56",
   "metadata": {},
   "outputs": [
    {
     "name": "stdout",
     "output_type": "stream",
     "text": [
      "total 328\n",
      "drwxr-xr-x  12 shengpeng319  staff    384 Jun 10 10:01 \u001b[34m.\u001b[m\u001b[m\n",
      "drwxr-xr-x   7 shengpeng319  staff    224 Jun  9 14:30 \u001b[34m..\u001b[m\u001b[m\n",
      "-rw-r--r--@  1 shengpeng319  staff   6148 Jun  9 11:13 .DS_Store\n",
      "drwxr-xr-x  12 shengpeng319  staff    384 Jun 10 00:02 \u001b[34m.git\u001b[m\u001b[m\n",
      "drwxr-xr-x   7 shengpeng319  staff    224 Jun 10 00:13 \u001b[34m.ipynb_checkpoints\u001b[m\u001b[m\n",
      "drwxr-xr-x   3 shengpeng319  staff     96 Jun  9 13:53 \u001b[34m.vscode\u001b[m\u001b[m\n",
      "-rw-r--r--   1 shengpeng319  staff   3393 Jun  9 23:24 JupyterTest.ipynb\n",
      "-rw-r--r--@  1 shengpeng319  staff  40513 Apr  7 22:29 countries.csv\n",
      "-rw-r--r--@  1 shengpeng319  staff  97360 Jun 10 09:42 data+visualization+with+python.ipynb\n",
      "-rw-r--r--@  1 shengpeng319  staff     64 Apr  7 22:29 sample_data.csv\n",
      "-rw-r--r--   1 shengpeng319  staff    196 Jun  9 23:59 test.py\n",
      "-rw-r--r--   1 shengpeng319  staff   6427 Jun 10 10:01 testNoteBook1.ipynb\n"
     ]
    }
   ],
   "source": [
    "!ls -la"
   ]
  },
  {
   "cell_type": "code",
   "execution_count": 15,
   "id": "1d8fa908",
   "metadata": {},
   "outputs": [
    {
     "data": {
      "application/json": {
       "cell": {
        "!": "OSMagics",
        "HTML": "Other",
        "SVG": "Other",
        "bash": "Other",
        "capture": "ExecutionMagics",
        "debug": "ExecutionMagics",
        "file": "Other",
        "html": "DisplayMagics",
        "javascript": "DisplayMagics",
        "js": "DisplayMagics",
        "latex": "DisplayMagics",
        "perl": "Other",
        "prun": "ExecutionMagics",
        "pypy": "Other",
        "python": "Other",
        "python2": "Other",
        "python3": "Other",
        "ruby": "Other",
        "script": "ScriptMagics",
        "sh": "Other",
        "svg": "DisplayMagics",
        "sx": "OSMagics",
        "system": "OSMagics",
        "time": "ExecutionMagics",
        "timeit": "ExecutionMagics",
        "writefile": "OSMagics"
       },
       "line": {
        "alias": "OSMagics",
        "alias_magic": "BasicMagics",
        "autocall": "AutoMagics",
        "automagic": "AutoMagics",
        "autosave": "KernelMagics",
        "bookmark": "OSMagics",
        "cat": "Other",
        "cd": "OSMagics",
        "clear": "KernelMagics",
        "colors": "BasicMagics",
        "config": "ConfigMagics",
        "connect_info": "KernelMagics",
        "cp": "Other",
        "debug": "ExecutionMagics",
        "dhist": "OSMagics",
        "dirs": "OSMagics",
        "doctest_mode": "BasicMagics",
        "ed": "Other",
        "edit": "KernelMagics",
        "env": "OSMagics",
        "gui": "BasicMagics",
        "hist": "Other",
        "history": "HistoryMagics",
        "killbgscripts": "ScriptMagics",
        "ldir": "Other",
        "less": "KernelMagics",
        "lf": "Other",
        "lk": "Other",
        "ll": "Other",
        "load": "CodeMagics",
        "load_ext": "ExtensionMagics",
        "loadpy": "CodeMagics",
        "logoff": "LoggingMagics",
        "logon": "LoggingMagics",
        "logstart": "LoggingMagics",
        "logstate": "LoggingMagics",
        "logstop": "LoggingMagics",
        "ls": "Other",
        "lsmagic": "BasicMagics",
        "lx": "Other",
        "macro": "ExecutionMagics",
        "magic": "BasicMagics",
        "man": "KernelMagics",
        "matplotlib": "PylabMagics",
        "mkdir": "Other",
        "more": "KernelMagics",
        "mv": "Other",
        "notebook": "BasicMagics",
        "page": "BasicMagics",
        "pastebin": "CodeMagics",
        "pdb": "ExecutionMagics",
        "pdef": "NamespaceMagics",
        "pdoc": "NamespaceMagics",
        "pfile": "NamespaceMagics",
        "pinfo": "NamespaceMagics",
        "pinfo2": "NamespaceMagics",
        "popd": "OSMagics",
        "pprint": "BasicMagics",
        "precision": "BasicMagics",
        "profile": "BasicMagics",
        "prun": "ExecutionMagics",
        "psearch": "NamespaceMagics",
        "psource": "NamespaceMagics",
        "pushd": "OSMagics",
        "pwd": "OSMagics",
        "pycat": "OSMagics",
        "pylab": "PylabMagics",
        "qtconsole": "KernelMagics",
        "quickref": "BasicMagics",
        "recall": "HistoryMagics",
        "rehashx": "OSMagics",
        "reload_ext": "ExtensionMagics",
        "rep": "Other",
        "rerun": "HistoryMagics",
        "reset": "NamespaceMagics",
        "reset_selective": "NamespaceMagics",
        "rm": "Other",
        "rmdir": "Other",
        "run": "ExecutionMagics",
        "save": "CodeMagics",
        "sc": "OSMagics",
        "set_env": "OSMagics",
        "store": "StoreMagics",
        "sx": "OSMagics",
        "system": "OSMagics",
        "tb": "ExecutionMagics",
        "time": "ExecutionMagics",
        "timeit": "ExecutionMagics",
        "unalias": "OSMagics",
        "unload_ext": "ExtensionMagics",
        "who": "NamespaceMagics",
        "who_ls": "NamespaceMagics",
        "whos": "NamespaceMagics",
        "xdel": "NamespaceMagics",
        "xmode": "BasicMagics"
       }
      },
      "text/plain": [
       "Available line magics:\n",
       "%alias  %alias_magic  %autocall  %automagic  %autosave  %bookmark  %cat  %cd  %clear  %colors  %config  %connect_info  %cp  %debug  %dhist  %dirs  %doctest_mode  %ed  %edit  %env  %gui  %hist  %history  %killbgscripts  %ldir  %less  %lf  %lk  %ll  %load  %load_ext  %loadpy  %logoff  %logon  %logstart  %logstate  %logstop  %ls  %lsmagic  %lx  %macro  %magic  %man  %matplotlib  %mkdir  %more  %mv  %notebook  %page  %pastebin  %pdb  %pdef  %pdoc  %pfile  %pinfo  %pinfo2  %popd  %pprint  %precision  %profile  %prun  %psearch  %psource  %pushd  %pwd  %pycat  %pylab  %qtconsole  %quickref  %recall  %rehashx  %reload_ext  %rep  %rerun  %reset  %reset_selective  %rm  %rmdir  %run  %save  %sc  %set_env  %store  %sx  %system  %tb  %time  %timeit  %unalias  %unload_ext  %who  %who_ls  %whos  %xdel  %xmode\n",
       "\n",
       "Available cell magics:\n",
       "%%!  %%HTML  %%SVG  %%bash  %%capture  %%debug  %%file  %%html  %%javascript  %%js  %%latex  %%perl  %%prun  %%pypy  %%python  %%python2  %%python3  %%ruby  %%script  %%sh  %%svg  %%sx  %%system  %%time  %%timeit  %%writefile\n",
       "\n",
       "Automagic is ON, % prefix IS NOT needed for line magics."
      ]
     },
     "execution_count": 15,
     "metadata": {},
     "output_type": "execute_result"
    }
   ],
   "source": [
    "%lsmagic"
   ]
  },
  {
   "cell_type": "code",
   "execution_count": 18,
   "id": "bddedd9c",
   "metadata": {},
   "outputs": [
    {
     "name": "stdout",
     "output_type": "stream",
     "text": [
      "-rw-r--r--  1 shengpeng319  staff   3393 Jun  9 23:24 JupyterTest.ipynb\n",
      "-rw-r--r--@ 1 shengpeng319  staff  40513 Apr  7 22:29 countries.csv\n",
      "-rw-r--r--@ 1 shengpeng319  staff  97360 Jun 10 09:42 data+visualization+with+python.ipynb\n",
      "-rw-r--r--@ 1 shengpeng319  staff     64 Apr  7 22:29 sample_data.csv\n",
      "-rw-r--r--  1 shengpeng319  staff    196 Jun  9 23:59 test.py\n",
      "-rw-r--r--  1 shengpeng319  staff   6427 Jun 10 10:01 testNoteBook1.ipynb\n"
     ]
    }
   ],
   "source": [
    "%lf"
   ]
  },
  {
   "cell_type": "code",
   "execution_count": 7,
   "id": "7051fad2",
   "metadata": {},
   "outputs": [],
   "source": [
    "%matplotlib inline"
   ]
  },
  {
   "cell_type": "code",
   "execution_count": 10,
   "id": "575c5aef",
   "metadata": {},
   "outputs": [
    {
     "data": {
      "text/html": [
       "<div>\n",
       "<style scoped>\n",
       "    .dataframe tbody tr th:only-of-type {\n",
       "        vertical-align: middle;\n",
       "    }\n",
       "\n",
       "    .dataframe tbody tr th {\n",
       "        vertical-align: top;\n",
       "    }\n",
       "\n",
       "    .dataframe thead th {\n",
       "        text-align: right;\n",
       "    }\n",
       "</style>\n",
       "<table border=\"1\" class=\"dataframe\">\n",
       "  <thead>\n",
       "    <tr style=\"text-align: right;\">\n",
       "      <th></th>\n",
       "      <th>0</th>\n",
       "      <th>1</th>\n",
       "      <th>2</th>\n",
       "      <th>3</th>\n",
       "      <th>4</th>\n",
       "      <th>5</th>\n",
       "    </tr>\n",
       "  </thead>\n",
       "  <tbody>\n",
       "    <tr>\n",
       "      <th>0</th>\n",
       "      <td>-2.905311</td>\n",
       "      <td>-0.087693</td>\n",
       "      <td>2.126601</td>\n",
       "      <td>0.109698</td>\n",
       "      <td>0.308167</td>\n",
       "      <td>-0.081973</td>\n",
       "    </tr>\n",
       "    <tr>\n",
       "      <th>1</th>\n",
       "      <td>0.195929</td>\n",
       "      <td>-0.884609</td>\n",
       "      <td>-0.701887</td>\n",
       "      <td>0.852898</td>\n",
       "      <td>0.290799</td>\n",
       "      <td>0.659553</td>\n",
       "    </tr>\n",
       "    <tr>\n",
       "      <th>2</th>\n",
       "      <td>-0.114424</td>\n",
       "      <td>-0.531780</td>\n",
       "      <td>-0.751782</td>\n",
       "      <td>-1.011641</td>\n",
       "      <td>0.963352</td>\n",
       "      <td>-0.056090</td>\n",
       "    </tr>\n",
       "    <tr>\n",
       "      <th>3</th>\n",
       "      <td>-0.460088</td>\n",
       "      <td>-1.169892</td>\n",
       "      <td>0.051509</td>\n",
       "      <td>0.535734</td>\n",
       "      <td>-0.018522</td>\n",
       "      <td>1.354548</td>\n",
       "    </tr>\n",
       "    <tr>\n",
       "      <th>4</th>\n",
       "      <td>-0.693964</td>\n",
       "      <td>1.841266</td>\n",
       "      <td>0.350252</td>\n",
       "      <td>0.856484</td>\n",
       "      <td>-1.126691</td>\n",
       "      <td>0.091525</td>\n",
       "    </tr>\n",
       "  </tbody>\n",
       "</table>\n",
       "</div>"
      ],
      "text/plain": [
       "          0         1         2         3         4         5\n",
       "0 -2.905311 -0.087693  2.126601  0.109698  0.308167 -0.081973\n",
       "1  0.195929 -0.884609 -0.701887  0.852898  0.290799  0.659553\n",
       "2 -0.114424 -0.531780 -0.751782 -1.011641  0.963352 -0.056090\n",
       "3 -0.460088 -1.169892  0.051509  0.535734 -0.018522  1.354548\n",
       "4 -0.693964  1.841266  0.350252  0.856484 -1.126691  0.091525"
      ]
     },
     "execution_count": 10,
     "metadata": {},
     "output_type": "execute_result"
    }
   ],
   "source": [
    "import numpy as np\n",
    "import pandas as pd\n",
    "\n",
    "df = pd.DataFrame(np.random.randn(5,6)) \n",
    "\n",
    "df.head()"
   ]
  },
  {
   "cell_type": "code",
   "execution_count": null,
   "id": "390475f1",
   "metadata": {},
   "outputs": [],
   "source": []
  }
 ],
 "metadata": {
  "kernelspec": {
   "display_name": "Python 3.5.6 64-bit ('ai35': conda)",
   "language": "python",
   "name": "python356jvsc74a57bd025519c667e91032c0abda383720a0c7c0060e9f4558bfd051f780e80475640d7"
  },
  "language_info": {
   "codemirror_mode": {
    "name": "ipython",
    "version": 3
   },
   "file_extension": ".py",
   "mimetype": "text/x-python",
   "name": "python",
   "nbconvert_exporter": "python",
   "pygments_lexer": "ipython3",
   "version": "3.5.6"
  }
 },
 "nbformat": 4,
 "nbformat_minor": 5
}
